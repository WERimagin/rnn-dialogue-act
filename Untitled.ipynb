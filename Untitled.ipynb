{
 "cells": [
  {
   "cell_type": "code",
   "execution_count": 4,
   "metadata": {},
   "outputs": [],
   "source": [
    "import pandas as pd"
   ]
  },
  {
   "cell_type": "code",
   "execution_count": 3,
   "metadata": {},
   "outputs": [],
   "source": [
    "path=\"data/SwDA.csv\""
   ]
  },
  {
   "cell_type": "code",
   "execution_count": 5,
   "metadata": {},
   "outputs": [],
   "source": [
    "data=pd.read_csv(path)"
   ]
  },
  {
   "cell_type": "code",
   "execution_count": 6,
   "metadata": {},
   "outputs": [
    {
     "data": {
      "text/html": [
       "<div>\n",
       "<style scoped>\n",
       "    .dataframe tbody tr th:only-of-type {\n",
       "        vertical-align: middle;\n",
       "    }\n",
       "\n",
       "    .dataframe tbody tr th {\n",
       "        vertical-align: top;\n",
       "    }\n",
       "\n",
       "    .dataframe thead th {\n",
       "        text-align: right;\n",
       "    }\n",
       "</style>\n",
       "<table border=\"1\" class=\"dataframe\">\n",
       "  <thead>\n",
       "    <tr style=\"text-align: right;\">\n",
       "      <th></th>\n",
       "      <th>act_tag</th>\n",
       "      <th>caller</th>\n",
       "      <th>clean_text</th>\n",
       "      <th>conversation_no</th>\n",
       "      <th>damsl_act_tag</th>\n",
       "      <th>act_tag_id</th>\n",
       "    </tr>\n",
       "  </thead>\n",
       "  <tbody>\n",
       "    <tr>\n",
       "      <td>0</td>\n",
       "      <td>o</td>\n",
       "      <td>A</td>\n",
       "      <td>Okay</td>\n",
       "      <td>4325</td>\n",
       "      <td>fo_o_fw_\"_by_bc</td>\n",
       "      <td>21</td>\n",
       "    </tr>\n",
       "    <tr>\n",
       "      <td>1</td>\n",
       "      <td>qw</td>\n",
       "      <td>A</td>\n",
       "      <td>So</td>\n",
       "      <td>4325</td>\n",
       "      <td>qw</td>\n",
       "      <td>34</td>\n",
       "    </tr>\n",
       "    <tr>\n",
       "      <td>2</td>\n",
       "      <td>qy^d</td>\n",
       "      <td>B</td>\n",
       "      <td>I guess</td>\n",
       "      <td>4325</td>\n",
       "      <td>qy^d</td>\n",
       "      <td>37</td>\n",
       "    </tr>\n",
       "    <tr>\n",
       "      <td>3</td>\n",
       "      <td>+</td>\n",
       "      <td>A</td>\n",
       "      <td>What kind of experience do you , do you have ,...</td>\n",
       "      <td>4325</td>\n",
       "      <td>+</td>\n",
       "      <td>1</td>\n",
       "    </tr>\n",
       "    <tr>\n",
       "      <td>4</td>\n",
       "      <td>+</td>\n",
       "      <td>B</td>\n",
       "      <td>I think , uh , I wonder if that worked</td>\n",
       "      <td>4325</td>\n",
       "      <td>+</td>\n",
       "      <td>1</td>\n",
       "    </tr>\n",
       "  </tbody>\n",
       "</table>\n",
       "</div>"
      ],
      "text/plain": [
       "  act_tag caller                                         clean_text  \\\n",
       "0       o      A                                               Okay   \n",
       "1      qw      A                                                 So   \n",
       "2    qy^d      B                                            I guess   \n",
       "3       +      A  What kind of experience do you , do you have ,...   \n",
       "4       +      B             I think , uh , I wonder if that worked   \n",
       "\n",
       "   conversation_no    damsl_act_tag  act_tag_id  \n",
       "0             4325  fo_o_fw_\"_by_bc          21  \n",
       "1             4325               qw          34  \n",
       "2             4325             qy^d          37  \n",
       "3             4325                +           1  \n",
       "4             4325                +           1  "
      ]
     },
     "execution_count": 6,
     "metadata": {},
     "output_type": "execute_result"
    }
   ],
   "source": [
    "data.head()"
   ]
  },
  {
   "cell_type": "code",
   "execution_count": 7,
   "metadata": {},
   "outputs": [
    {
     "data": {
      "text/plain": [
       "(212892, 6)"
      ]
     },
     "execution_count": 7,
     "metadata": {},
     "output_type": "execute_result"
    }
   ],
   "source": [
    "data.shape"
   ]
  },
  {
   "cell_type": "code",
   "execution_count": 9,
   "metadata": {},
   "outputs": [
    {
     "data": {
      "text/plain": [
       "sd                 73407\n",
       "b                  37421\n",
       "sv                 25479\n",
       "+                  17493\n",
       "%                  15147\n",
       "aa                 10909\n",
       "ba                  4685\n",
       "qy                  4643\n",
       "ny                  2964\n",
       "fc                  2520\n",
       "qw                  1937\n",
       "nn                  1349\n",
       "bk                  1289\n",
       "h                   1193\n",
       "qy^d                1181\n",
       "bh                  1032\n",
       "^q                   942\n",
       "bf                   921\n",
       "fo_o_fw_\"_by_bc      870\n",
       "na                   836\n",
       "ad                   727\n",
       "^2                   701\n",
       "b^m                  668\n",
       "qo                   641\n",
       "qh                   565\n",
       "^h                   544\n",
       "ar                   339\n",
       "ng                   293\n",
       "br                   289\n",
       "no                   281\n",
       "fp                   223\n",
       "qrr                  208\n",
       "arp_nd               205\n",
       "x                    140\n",
       "t3                   113\n",
       "oo_co_cc             109\n",
       "aap_am               105\n",
       "t1                   103\n",
       "bd                   101\n",
       "^g                    92\n",
       "qw^d                  80\n",
       "fa                    77\n",
       "ft                    70\n",
       "Name: damsl_act_tag, dtype: int64"
      ]
     },
     "execution_count": 9,
     "metadata": {},
     "output_type": "execute_result"
    }
   ],
   "source": [
    "data[\"damsl_act_tag\"].value_counts()"
   ]
  },
  {
   "cell_type": "code",
   "execution_count": 11,
   "metadata": {},
   "outputs": [
    {
     "data": {
      "text/plain": [
       "43"
      ]
     },
     "execution_count": 11,
     "metadata": {},
     "output_type": "execute_result"
    }
   ],
   "source": [
    "len(set(data[\"damsl_act_tag\"]))"
   ]
  },
  {
   "cell_type": "code",
   "execution_count": 13,
   "metadata": {},
   "outputs": [
    {
     "data": {
      "text/html": [
       "<div>\n",
       "<style scoped>\n",
       "    .dataframe tbody tr th:only-of-type {\n",
       "        vertical-align: middle;\n",
       "    }\n",
       "\n",
       "    .dataframe tbody tr th {\n",
       "        vertical-align: top;\n",
       "    }\n",
       "\n",
       "    .dataframe thead th {\n",
       "        text-align: right;\n",
       "    }\n",
       "</style>\n",
       "<table border=\"1\" class=\"dataframe\">\n",
       "  <thead>\n",
       "    <tr style=\"text-align: right;\">\n",
       "      <th></th>\n",
       "      <th>act_tag</th>\n",
       "      <th>caller</th>\n",
       "      <th>clean_text</th>\n",
       "      <th>conversation_no</th>\n",
       "      <th>damsl_act_tag</th>\n",
       "      <th>act_tag_id</th>\n",
       "    </tr>\n",
       "  </thead>\n",
       "  <tbody>\n",
       "    <tr>\n",
       "      <td>968</td>\n",
       "      <td>x</td>\n",
       "      <td>A</td>\n",
       "      <td>-</td>\n",
       "      <td>4329</td>\n",
       "      <td>x</td>\n",
       "      <td>42</td>\n",
       "    </tr>\n",
       "    <tr>\n",
       "      <td>2277</td>\n",
       "      <td>x</td>\n",
       "      <td>A</td>\n",
       "      <td>MUMBLEx</td>\n",
       "      <td>4049</td>\n",
       "      <td>x</td>\n",
       "      <td>42</td>\n",
       "    </tr>\n",
       "    <tr>\n",
       "      <td>3009</td>\n",
       "      <td>x</td>\n",
       "      <td>A</td>\n",
       "      <td>MUMBLEx</td>\n",
       "      <td>4181</td>\n",
       "      <td>x</td>\n",
       "      <td>42</td>\n",
       "    </tr>\n",
       "    <tr>\n",
       "      <td>4085</td>\n",
       "      <td>x</td>\n",
       "      <td>B</td>\n",
       "      <td>MUMBLEx</td>\n",
       "      <td>2546</td>\n",
       "      <td>x</td>\n",
       "      <td>42</td>\n",
       "    </tr>\n",
       "    <tr>\n",
       "      <td>6443</td>\n",
       "      <td>x</td>\n",
       "      <td>A</td>\n",
       "      <td>MUMBLEx</td>\n",
       "      <td>3917</td>\n",
       "      <td>x</td>\n",
       "      <td>42</td>\n",
       "    </tr>\n",
       "    <tr>\n",
       "      <td>...</td>\n",
       "      <td>...</td>\n",
       "      <td>...</td>\n",
       "      <td>...</td>\n",
       "      <td>...</td>\n",
       "      <td>...</td>\n",
       "      <td>...</td>\n",
       "    </tr>\n",
       "    <tr>\n",
       "      <td>210600</td>\n",
       "      <td>x</td>\n",
       "      <td>B</td>\n",
       "      <td>MUMBLEx</td>\n",
       "      <td>2131</td>\n",
       "      <td>x</td>\n",
       "      <td>42</td>\n",
       "    </tr>\n",
       "    <tr>\n",
       "      <td>210670</td>\n",
       "      <td>x</td>\n",
       "      <td>A</td>\n",
       "      <td>MUMBLEx</td>\n",
       "      <td>2131</td>\n",
       "      <td>x</td>\n",
       "      <td>42</td>\n",
       "    </tr>\n",
       "    <tr>\n",
       "      <td>211026</td>\n",
       "      <td>x</td>\n",
       "      <td>B</td>\n",
       "      <td>MUMBLEx</td>\n",
       "      <td>2229</td>\n",
       "      <td>x</td>\n",
       "      <td>42</td>\n",
       "    </tr>\n",
       "    <tr>\n",
       "      <td>211127</td>\n",
       "      <td>x</td>\n",
       "      <td>A</td>\n",
       "      <td>MUMBLEx</td>\n",
       "      <td>2229</td>\n",
       "      <td>x</td>\n",
       "      <td>42</td>\n",
       "    </tr>\n",
       "    <tr>\n",
       "      <td>211155</td>\n",
       "      <td>x</td>\n",
       "      <td>A</td>\n",
       "      <td>MUMBLEx</td>\n",
       "      <td>2229</td>\n",
       "      <td>x</td>\n",
       "      <td>42</td>\n",
       "    </tr>\n",
       "  </tbody>\n",
       "</table>\n",
       "<p>140 rows × 6 columns</p>\n",
       "</div>"
      ],
      "text/plain": [
       "       act_tag caller clean_text  conversation_no damsl_act_tag  act_tag_id\n",
       "968          x      A          -             4329             x          42\n",
       "2277         x      A    MUMBLEx             4049             x          42\n",
       "3009         x      A    MUMBLEx             4181             x          42\n",
       "4085         x      B    MUMBLEx             2546             x          42\n",
       "6443         x      A    MUMBLEx             3917             x          42\n",
       "...        ...    ...        ...              ...           ...         ...\n",
       "210600       x      B    MUMBLEx             2131             x          42\n",
       "210670       x      A    MUMBLEx             2131             x          42\n",
       "211026       x      B    MUMBLEx             2229             x          42\n",
       "211127       x      A    MUMBLEx             2229             x          42\n",
       "211155       x      A    MUMBLEx             2229             x          42\n",
       "\n",
       "[140 rows x 6 columns]"
      ]
     },
     "execution_count": 13,
     "metadata": {},
     "output_type": "execute_result"
    }
   ],
   "source": [
    "data[data[\"damsl_act_tag\"]==\"x\"]"
   ]
  },
  {
   "cell_type": "code",
   "execution_count": null,
   "metadata": {},
   "outputs": [],
   "source": []
  }
 ],
 "metadata": {
  "kernelspec": {
   "display_name": "Python 3",
   "language": "python",
   "name": "python3"
  },
  "language_info": {
   "codemirror_mode": {
    "name": "ipython",
    "version": 3
   },
   "file_extension": ".py",
   "mimetype": "text/x-python",
   "name": "python",
   "nbconvert_exporter": "python",
   "pygments_lexer": "ipython3",
   "version": "3.7.4"
  }
 },
 "nbformat": 4,
 "nbformat_minor": 2
}
